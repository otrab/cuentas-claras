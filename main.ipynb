{
 "cells": [
  {
   "cell_type": "code",
   "execution_count": 1,
   "metadata": {},
   "outputs": [
    {
     "name": "stdout",
     "output_type": "stream",
     "text": [
      "Total Abonos $3,563,723\n",
      "Total Cargos $585,545\n"
     ]
    }
   ],
   "source": [
    "import pandas as pd\n",
    "\n",
    "def filter_dataframe(df):\n",
    "    # Eliminar las primeras 23 filas\n",
    "    df = df.drop(df.index[:23])\n",
    "\n",
    "    # Eliminar la primera y última columna\n",
    "    df = df.iloc[:, 1:-1]\n",
    "\n",
    "    # Asignar la primera fila como nombres de columna\n",
    "    df.columns = df.iloc[0]\n",
    "\n",
    "    # Eliminar la primera fila, ya que ahora son los nombres de columna\n",
    "    df = df[1:]\n",
    "\n",
    "    # Filtrar filas con valores no nulos en la columna 'Canal o Sucursal'\n",
    "    df_filtrado = df.dropna(subset=['Canal o Sucursal'])\n",
    "\n",
    "    # Filtrar filas con valores nulos en la columna 'Cargos (PESOS)' para obtener los abonos\n",
    "    df_abonos = df_filtrado[df_filtrado['Cargos (PESOS)'].isna()]\n",
    "\n",
    "    # Filtrar filas con valores nulos en la columna 'Abonos (PESOS)' para obtener los cargos\n",
    "    df_cargos = df_filtrado[df_filtrado['Abonos (PESOS)'].isna()]\n",
    "\n",
    "    # Eliminar la columna 'Cargos (PESOS)' de los abonos\n",
    "    df_abonos = df_abonos.drop(\"Cargos (PESOS)\", axis=1)\n",
    "\n",
    "    # Eliminar la columna 'Abonos (PESOS)' de los cargos\n",
    "    df_cargos = df_cargos.drop(\"Abonos (PESOS)\", axis=1)\n",
    "\n",
    "    return df_abonos, df_cargos\n",
    "\n",
    "def seleccionar_filas(df):\n",
    "    filas_seleccionadas = []\n",
    "    columnas = df.columns\n",
    "    \n",
    "    for index, row in df.iterrows():\n",
    "        fecha = row[columnas[0]]\n",
    "        monto = row[columnas[3]]\n",
    "        descripcion = row[columnas[1]]\n",
    "\n",
    "        incluir = input(f\"¿Incluir?: {fecha} ${monto:,} {descripcion}\")\n",
    "        \n",
    "        if incluir.lower() == 's':\n",
    "            filas_seleccionadas.append(row)\n",
    "    \n",
    "    df_seleccionado = pd.DataFrame(filas_seleccionadas)\n",
    "    \n",
    "    return df_seleccionado\n",
    "\n",
    "# Leer el archivo de Excel en un DataFrame\n",
    "df = pd.read_excel('cartola.xls')\n",
    "\n",
    "# Filtrar el DataFrame y obtener los DataFrames de abonos y cargos\n",
    "df_abonos, df_cargos = filter_dataframe(df)\n",
    "\n",
    "# Seleccionar filas para los abonos\n",
    "df_abonos_seleccionados = seleccionar_filas(df_abonos)\n",
    "\n",
    "# Seleccionar filas para los cargos\n",
    "df_cargos_seleccionados = seleccionar_filas(df_cargos)\n",
    "\n",
    "# Calcular la suma de los montos seleccionados en los abonos y cargos\n",
    "total_abonos = df_abonos_seleccionados.iloc[:, 3].sum()\n",
    "total_cargos = df_cargos_seleccionados.iloc[:, 3].sum()\n",
    "\n",
    "# Imprimir los totales en pesos chilenos\n",
    "print(f\"Total Abonos ${total_abonos:,}\")\n",
    "print(f\"Total Cargos ${total_cargos:,}\")\n",
    "\n",
    "\n",
    "\n"
   ]
  }
 ],
 "metadata": {
  "kernelspec": {
   "display_name": "dataScience",
   "language": "python",
   "name": "python3"
  },
  "language_info": {
   "codemirror_mode": {
    "name": "ipython",
    "version": 3
   },
   "file_extension": ".py",
   "mimetype": "text/x-python",
   "name": "python",
   "nbconvert_exporter": "python",
   "pygments_lexer": "ipython3",
   "version": "3.10.11"
  },
  "orig_nbformat": 4
 },
 "nbformat": 4,
 "nbformat_minor": 2
}
